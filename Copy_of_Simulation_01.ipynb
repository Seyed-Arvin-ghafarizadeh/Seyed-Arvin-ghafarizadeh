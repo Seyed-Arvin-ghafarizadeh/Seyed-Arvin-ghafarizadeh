{
  "nbformat": 4,
  "nbformat_minor": 0,
  "metadata": {
    "colab": {
      "name": "Copy of Simulation_01.ipynb",
      "provenance": [],
      "collapsed_sections": [],
      "authorship_tag": "ABX9TyOG+ojqcGQL7hg7sLdJ8Moh",
      "include_colab_link": true
    },
    "kernelspec": {
      "name": "python3",
      "display_name": "Python 3"
    },
    "language_info": {
      "name": "python"
    }
  },
  "cells": [
    {
      "cell_type": "markdown",
      "metadata": {
        "id": "view-in-github",
        "colab_type": "text"
      },
      "source": [
        "<a href=\"https://colab.research.google.com/github/Seyed-Arvin-ghafarizadeh/Seyed-Arvin-ghafarizadeh/blob/main/Copy_of_Simulation_01.ipynb\" target=\"_parent\"><img src=\"https://colab.research.google.com/assets/colab-badge.svg\" alt=\"Open In Colab\"/></a>"
      ]
    },
    {
      "cell_type": "code",
      "execution_count": null,
      "metadata": {
        "colab": {
          "base_uri": "https://localhost:8080/",
          "height": 312
        },
        "id": "csIh66yld_2S",
        "outputId": "15a8cae1-91de-4e70-dc13-37936b5bc2bc"
      },
      "outputs": [
        {
          "output_type": "stream",
          "name": "stderr",
          "text": [
            "No handles with labels found to put in legend.\n"
          ]
        },
        {
          "output_type": "display_data",
          "data": {
            "text/plain": [
              "<Figure size 432x288 with 1 Axes>"
            ],
            "image/png": "[encoded data removed]"
          },
          "metadata": {
            "needs_background": "light"
          }
        }
      ],
      "source": [
        "import numpy as np\n",
        "from scipy import signal\n",
        "import math\n",
        "from matplotlib import pyplot as plt\n",
        "\n",
        "\"\"\"\n",
        "Two-ray model, received signal power, Gr=1\n",
        "dr=1m\n",
        "fc=900MHz, R=-1, ht=50m, hr=2m, G0=G1=1=0dB\n",
        "\n",
        "\"\"\"\n",
        "# There are two approaches:\n",
        "# 1) Two-ray model Power falloff\n",
        "# 2) Piecewise linear approximation\n",
        "# Number one\n",
        "# f=C/landa\n",
        "C = 2 * (10 ** 8)\n",
        "fc = 900 * 10 ** 9  # 900Mhz\n",
        "landa = C / fc\n",
        "Pt = 16  # 16watt\n",
        "d = d0 = 1000\n",
        "d1 = 1100  # d1= d11 + d12\n",
        "R = -1\n",
        "G0 = 1\n",
        "G1 = 1\n",
        "delta_phi = (2 * math.pi * (d1 - d0)) / landa\n",
        "term1 = (np.sqrt(G0) / d0)\n",
        "# term2 = ((R * np.sqrt(G1) * math.exp(-1j * delta_phi)) / d1).real\n",
        "term2 = ((R * np.sqrt(G1) * math.cos(delta_phi)) / d1)\n",
        "pr = Pt * ((landa / (4 * math.pi)) ** 2) * (abs(term1 + term2)) ** 2\n",
        "pr_1 = []\n",
        "for i in range(1, d, 1):\n",
        "    d = i\n",
        "    d0 = d\n",
        "    delta_phi = (2 * math.pi * (d1 - d0)) / landa\n",
        "    term1 = np.sqrt(G0) / d0\n",
        "    term2 = ((R * np.sqrt(G1) * math.cos(delta_phi)) / d1)\n",
        "    pr = Pt * ((landa / (4 * math.pi)) ** 2) * (abs(term1 + term2)) ** 2\n",
        "    pr_1.append(pr)\n",
        "\n",
        "plt.plot(pr_1)\n",
        "plt.xlabel('log(d, base=10)')\n",
        "plt.ylabel('Received power Pr(dB)')\n",
        "plt.title('Two ray model, received signal power, Gr=1')\n",
        "plt.legend()\n",
        "plt.show()\n",
        "\n",
        "# Number two\n"
      ]
    }
  ]
}